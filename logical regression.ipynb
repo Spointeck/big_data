{
 "cells": [
  {
   "cell_type": "code",
   "execution_count": 1,
   "id": "699d919a",
   "metadata": {},
   "outputs": [],
   "source": [
    "num_pred = ['time_in_hospital' , 'num_procedures' , 'num_medications']\n",
    "cat_pred = ['race' , 'gender' , 'age' , 'insulin' , 'change']\n",
    "target = ['readmitted']"
   ]
  },
  {
   "cell_type": "code",
   "execution_count": null,
   "id": "c31d0a63",
   "metadata": {},
   "outputs": [],
   "source": [
    "from sklearn.compose import ColumnTransformer\n",
    "from sklearn.preprocessing import OneHotEncoder\n",
    "import statsmodels.api as sm\n",
    "from statsmodels.formula.api import ols\n",
    "from sklearn.metrics import roc_curve, auc\n",
    "\n",
    "X_numeric = df[num_pred]\n",
    "X_categorical = df[cat_pred]\n",
    "\n",
    "encoder = OneHotEncoder()\n",
    "X_categorical_encoded = encoder.fit_transform(X_categorical)\n",
    "X = np.concatenate([X_numeric, X_categorical_encoded.toarray()], axis=1)\n",
    "y = df[target]\n",
    "\n",
    "X_train, X_test, y_train, y_test = train_test_split(X, y, test_size=0.2, random_state=42)\n",
    "\n",
    "logreg = LogisticRegression()\n",
    "\n",
    "# Training the model\n",
    "logreg.fit(X_train, y_train)\n",
    "\n",
    "# Making predictions on the test set\n",
    "y_pred = logreg.predict(X_test)\n",
    "\n",
    "# Calculating accuracy\n",
    "accuracy_LG = accuracy_score(y_test, y_pred)\n",
    "print(\"Accuracy:\", accuracy_LG)\n"
   ]
  },
  {
   "cell_type": "code",
   "execution_count": null,
   "id": "f8aeb7eb",
   "metadata": {},
   "outputs": [],
   "source": [
    "from sklearn.model_selection import cross_val_score\n",
    "scores = cross_val_score(logreg, X, y, cv=5, scoring='neg_mean_squared_error')\n",
    "\n",
    "# Print the mean and standard deviation of the cross-validation scores\n",
    "print(f\"Mean squared error: {abs(scores.mean()):.2f}\")\n",
    "print(f\"Standard deviation: {scores.std():.2f}\")"
   ]
  }
 ],
 "metadata": {
  "kernelspec": {
   "display_name": "Python 3 (ipykernel)",
   "language": "python",
   "name": "python3"
  },
  "language_info": {
   "codemirror_mode": {
    "name": "ipython",
    "version": 3
   },
   "file_extension": ".py",
   "mimetype": "text/x-python",
   "name": "python",
   "nbconvert_exporter": "python",
   "pygments_lexer": "ipython3",
   "version": "3.11.5"
  }
 },
 "nbformat": 4,
 "nbformat_minor": 5
}
